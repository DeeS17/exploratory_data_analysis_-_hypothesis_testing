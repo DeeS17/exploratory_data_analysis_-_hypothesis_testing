{
  "cells": [
    {
      "cell_type": "markdown",
      "metadata": {
        "id": "view-in-github",
        "colab_type": "text"
      },
      "source": [
        "<a href=\"https://colab.research.google.com/github/DeeS17/exploratory_data_analysis_and_hypothesis_testing/blob/main/sprint_5.ipynb\" target=\"_parent\"><img src=\"https://colab.research.google.com/assets/colab-badge.svg\" alt=\"Open In Colab\"/></a>"
      ]
    },
    {
      "cell_type": "markdown",
      "metadata": {
        "id": "MJfq4IK4GeBt"
      },
      "source": [
        "# Konten"
      ]
    },
    {
      "cell_type": "markdown",
      "metadata": {
        "id": "16tlgoXtGeBt"
      },
      "source": [
        "* Tahap 1: Pra-Pemrosesan Data\n",
        "    * Memuat Data\n",
        "    * Mengeksplorasi Data Awal\n",
        "* Tahap 2: Analisa Data Eksploratif\n",
        "    * 10 Wilayah Pengantaran Teratas\n",
        "    * 10 Perusahaan Taksi dengan Perjalanan Terbanyak\n",
        "* Menguji Hipotesis\n",
        "* Kesimpulan"
      ]
    },
    {
      "cell_type": "markdown",
      "metadata": {
        "id": "7zzFOd9EGeBu"
      },
      "source": [
        "# Pendahuluan"
      ]
    },
    {
      "cell_type": "markdown",
      "metadata": {
        "id": "AL8fKpEMGeBu"
      },
      "source": [
        "Zuber adalah sebuah perusahaan berbagi tumpangan (ride-sharing) baru yang diluncurkan di Chicago. Pada project ini Saya mencari pola pada informasi yang tersedia untuk memahami preferensi penumpang dan dampak faktor eksternal terhadap perjalanan."
      ]
    },
    {
      "cell_type": "markdown",
      "metadata": {
        "id": "DdDSEw0aGeBu"
      },
      "source": [
        "# Tujuan"
      ]
    },
    {
      "cell_type": "markdown",
      "metadata": {
        "id": "Lzp0AelQGeBu"
      },
      "source": [
        "Untuk mengetahui apakah faktor eksternal mempengaruhi perjalanan maka saya akan menguji hipotesis:\n",
        "- Apakah Ada Perbedaan Rata-Rata Durasi Perjalanan Pada Hari Sabtu antara ketika Cuaca Hujan dengan ketika Cuaca Tidak Hujan."
      ]
    },
    {
      "cell_type": "markdown",
      "metadata": {
        "id": "a9wp7eZHGeBv"
      },
      "source": [
        "# Tahapan"
      ]
    },
    {
      "cell_type": "markdown",
      "metadata": {
        "id": "LNPcvMLPGeBv"
      },
      "source": [
        "- Pra-Pemrosessan Data\n",
        "- Analisa Data Eksploratif\n",
        "- Menguji Hipotesis\n",
        "- Kesimpulan"
      ]
    },
    {
      "cell_type": "markdown",
      "metadata": {
        "id": "gspIxrF3GeBw"
      },
      "source": [
        "## Pra-pemrosesan Data"
      ]
    },
    {
      "cell_type": "code",
      "execution_count": null,
      "metadata": {
        "id": "D-Fw6z9TGeBx"
      },
      "outputs": [],
      "source": [
        "import pandas as pd\n",
        "import seaborn as sns\n",
        "import matplotlib.pyplot as plt\n",
        "from scipy.stats import ttest_ind"
      ]
    },
    {
      "cell_type": "markdown",
      "metadata": {
        "id": "pkFnH5rQGeBy"
      },
      "source": [
        "<div class=\"alert alert-success\">\n",
        "<b>Chamdani's comment v.1</b> <a class=\"tocSkip\"></a>\n",
        "\n",
        "Bagus, semua berjalan lancar.\n",
        "\n",
        "</div>"
      ]
    },
    {
      "cell_type": "markdown",
      "metadata": {
        "id": "hAotaqURGeBy"
      },
      "source": [
        "### Memuat Data"
      ]
    },
    {
      "cell_type": "code",
      "execution_count": null,
      "metadata": {
        "id": "uDgbquShGeBz"
      },
      "outputs": [],
      "source": [
        "try:\n",
        "  trips_by_company = pd.read_csv('/datasets/project_sql_result_01.csv')\n",
        "  avg_trip_by_do_loc = pd.read_csv('/datasets/project_sql_result_04.csv')\n",
        "  ohare_loop = pd.read_csv('/datasets/project_sql_result_07.csv')\n",
        "except:\n",
        "  trips_by_company = pd.read_csv('/content/project_sql_result_01.csv')\n",
        "  avg_trip_by_do_loc = pd.read_csv('/content/project_sql_result_04.csv')\n",
        "  ohare_loop = pd.read_csv('/content/project_sql_result_07.csv')"
      ]
    },
    {
      "cell_type": "markdown",
      "metadata": {
        "id": "6hYTGEgPGeBz"
      },
      "source": [
        "### Mengeksplorasi Data Awal"
      ]
    },
    {
      "cell_type": "code",
      "execution_count": null,
      "metadata": {
        "scrolled": true,
        "colab": {
          "base_uri": "https://localhost:8080/",
          "height": 206
        },
        "id": "lILBQsE_GeBz",
        "outputId": "eacc1a79-b26c-45cc-e096-494d96df8e11"
      },
      "outputs": [
        {
          "output_type": "execute_result",
          "data": {
            "text/plain": [
              "                      company_name  trips_amount\n",
              "0                        Flash Cab         19558\n",
              "1        Taxi Affiliation Services         11422\n",
              "2                 Medallion Leasin         10367\n",
              "3                       Yellow Cab          9888\n",
              "4  Taxi Affiliation Service Yellow          9299"
            ],
            "text/html": [
              "\n",
              "  <div id=\"df-ae0a9a0d-9210-4962-be9c-aa878664e8e5\">\n",
              "    <div class=\"colab-df-container\">\n",
              "      <div>\n",
              "<style scoped>\n",
              "    .dataframe tbody tr th:only-of-type {\n",
              "        vertical-align: middle;\n",
              "    }\n",
              "\n",
              "    .dataframe tbody tr th {\n",
              "        vertical-align: top;\n",
              "    }\n",
              "\n",
              "    .dataframe thead th {\n",
              "        text-align: right;\n",
              "    }\n",
              "</style>\n",
              "<table border=\"1\" class=\"dataframe\">\n",
              "  <thead>\n",
              "    <tr style=\"text-align: right;\">\n",
              "      <th></th>\n",
              "      <th>company_name</th>\n",
              "      <th>trips_amount</th>\n",
              "    </tr>\n",
              "  </thead>\n",
              "  <tbody>\n",
              "    <tr>\n",
              "      <th>0</th>\n",
              "      <td>Flash Cab</td>\n",
              "      <td>19558</td>\n",
              "    </tr>\n",
              "    <tr>\n",
              "      <th>1</th>\n",
              "      <td>Taxi Affiliation Services</td>\n",
              "      <td>11422</td>\n",
              "    </tr>\n",
              "    <tr>\n",
              "      <th>2</th>\n",
              "      <td>Medallion Leasin</td>\n",
              "      <td>10367</td>\n",
              "    </tr>\n",
              "    <tr>\n",
              "      <th>3</th>\n",
              "      <td>Yellow Cab</td>\n",
              "      <td>9888</td>\n",
              "    </tr>\n",
              "    <tr>\n",
              "      <th>4</th>\n",
              "      <td>Taxi Affiliation Service Yellow</td>\n",
              "      <td>9299</td>\n",
              "    </tr>\n",
              "  </tbody>\n",
              "</table>\n",
              "</div>\n",
              "      <button class=\"colab-df-convert\" onclick=\"convertToInteractive('df-ae0a9a0d-9210-4962-be9c-aa878664e8e5')\"\n",
              "              title=\"Convert this dataframe to an interactive table.\"\n",
              "              style=\"display:none;\">\n",
              "        \n",
              "  <svg xmlns=\"http://www.w3.org/2000/svg\" height=\"24px\"viewBox=\"0 0 24 24\"\n",
              "       width=\"24px\">\n",
              "    <path d=\"M0 0h24v24H0V0z\" fill=\"none\"/>\n",
              "    <path d=\"M18.56 5.44l.94 2.06.94-2.06 2.06-.94-2.06-.94-.94-2.06-.94 2.06-2.06.94zm-11 1L8.5 8.5l.94-2.06 2.06-.94-2.06-.94L8.5 2.5l-.94 2.06-2.06.94zm10 10l.94 2.06.94-2.06 2.06-.94-2.06-.94-.94-2.06-.94 2.06-2.06.94z\"/><path d=\"M17.41 7.96l-1.37-1.37c-.4-.4-.92-.59-1.43-.59-.52 0-1.04.2-1.43.59L10.3 9.45l-7.72 7.72c-.78.78-.78 2.05 0 2.83L4 21.41c.39.39.9.59 1.41.59.51 0 1.02-.2 1.41-.59l7.78-7.78 2.81-2.81c.8-.78.8-2.07 0-2.86zM5.41 20L4 18.59l7.72-7.72 1.47 1.35L5.41 20z\"/>\n",
              "  </svg>\n",
              "      </button>\n",
              "      \n",
              "  <style>\n",
              "    .colab-df-container {\n",
              "      display:flex;\n",
              "      flex-wrap:wrap;\n",
              "      gap: 12px;\n",
              "    }\n",
              "\n",
              "    .colab-df-convert {\n",
              "      background-color: #E8F0FE;\n",
              "      border: none;\n",
              "      border-radius: 50%;\n",
              "      cursor: pointer;\n",
              "      display: none;\n",
              "      fill: #1967D2;\n",
              "      height: 32px;\n",
              "      padding: 0 0 0 0;\n",
              "      width: 32px;\n",
              "    }\n",
              "\n",
              "    .colab-df-convert:hover {\n",
              "      background-color: #E2EBFA;\n",
              "      box-shadow: 0px 1px 2px rgba(60, 64, 67, 0.3), 0px 1px 3px 1px rgba(60, 64, 67, 0.15);\n",
              "      fill: #174EA6;\n",
              "    }\n",
              "\n",
              "    [theme=dark] .colab-df-convert {\n",
              "      background-color: #3B4455;\n",
              "      fill: #D2E3FC;\n",
              "    }\n",
              "\n",
              "    [theme=dark] .colab-df-convert:hover {\n",
              "      background-color: #434B5C;\n",
              "      box-shadow: 0px 1px 3px 1px rgba(0, 0, 0, 0.15);\n",
              "      filter: drop-shadow(0px 1px 2px rgba(0, 0, 0, 0.3));\n",
              "      fill: #FFFFFF;\n",
              "    }\n",
              "  </style>\n",
              "\n",
              "      <script>\n",
              "        const buttonEl =\n",
              "          document.querySelector('#df-ae0a9a0d-9210-4962-be9c-aa878664e8e5 button.colab-df-convert');\n",
              "        buttonEl.style.display =\n",
              "          google.colab.kernel.accessAllowed ? 'block' : 'none';\n",
              "\n",
              "        async function convertToInteractive(key) {\n",
              "          const element = document.querySelector('#df-ae0a9a0d-9210-4962-be9c-aa878664e8e5');\n",
              "          const dataTable =\n",
              "            await google.colab.kernel.invokeFunction('convertToInteractive',\n",
              "                                                     [key], {});\n",
              "          if (!dataTable) return;\n",
              "\n",
              "          const docLinkHtml = 'Like what you see? Visit the ' +\n",
              "            '<a target=\"_blank\" href=https://colab.research.google.com/notebooks/data_table.ipynb>data table notebook</a>'\n",
              "            + ' to learn more about interactive tables.';\n",
              "          element.innerHTML = '';\n",
              "          dataTable['output_type'] = 'display_data';\n",
              "          await google.colab.output.renderOutput(dataTable, element);\n",
              "          const docLink = document.createElement('div');\n",
              "          docLink.innerHTML = docLinkHtml;\n",
              "          element.appendChild(docLink);\n",
              "        }\n",
              "      </script>\n",
              "    </div>\n",
              "  </div>\n",
              "  "
            ]
          },
          "metadata": {},
          "execution_count": 3
        }
      ],
      "source": [
        "trips_by_company.head()"
      ]
    },
    {
      "cell_type": "code",
      "execution_count": null,
      "metadata": {
        "scrolled": true,
        "colab": {
          "base_uri": "https://localhost:8080/"
        },
        "id": "XfgFGa63GeB0",
        "outputId": "74e48819-f794-4b68-d9d8-791a5400c505"
      },
      "outputs": [
        {
          "output_type": "stream",
          "name": "stdout",
          "text": [
            "<class 'pandas.core.frame.DataFrame'>\n",
            "RangeIndex: 64 entries, 0 to 63\n",
            "Data columns (total 2 columns):\n",
            " #   Column        Non-Null Count  Dtype \n",
            "---  ------        --------------  ----- \n",
            " 0   company_name  64 non-null     object\n",
            " 1   trips_amount  64 non-null     int64 \n",
            "dtypes: int64(1), object(1)\n",
            "memory usage: 1.1+ KB\n"
          ]
        }
      ],
      "source": [
        "trips_by_company.info()"
      ]
    },
    {
      "cell_type": "markdown",
      "metadata": {
        "id": "bQ2hlvhwGeB1"
      },
      "source": [
        "Ada 64 data perusahaan taxi beserta jumlah perjalananya. Tidak ada data yang hilang dan masing-masing kolom telah sesuai tipe datanya."
      ]
    },
    {
      "cell_type": "code",
      "execution_count": null,
      "metadata": {
        "scrolled": true,
        "colab": {
          "base_uri": "https://localhost:8080/"
        },
        "id": "2TSQYq9CGeB1",
        "outputId": "11dbda1c-bad5-4d8d-c766-ab1f0606afc1"
      },
      "outputs": [
        {
          "output_type": "execute_result",
          "data": {
            "text/plain": [
              "0"
            ]
          },
          "metadata": {},
          "execution_count": 5
        }
      ],
      "source": [
        "trips_by_company.duplicated().sum()"
      ]
    },
    {
      "cell_type": "markdown",
      "metadata": {
        "id": "0yfD-7yyGeB2"
      },
      "source": [
        "Tidak ada nilai yang terduplikat. Selanjutnya saya akan memeriksa tabel berikutnya."
      ]
    },
    {
      "cell_type": "code",
      "execution_count": null,
      "metadata": {
        "scrolled": true,
        "colab": {
          "base_uri": "https://localhost:8080/",
          "height": 206
        },
        "id": "bT_6jaCMGeB2",
        "outputId": "6edaa28a-73a5-4298-9ce6-ad1a8bfeef66"
      },
      "outputs": [
        {
          "output_type": "execute_result",
          "data": {
            "text/plain": [
              "  dropoff_location_name  average_trips\n",
              "0                  Loop   10727.466667\n",
              "1           River North    9523.666667\n",
              "2         Streeterville    6664.666667\n",
              "3             West Loop    5163.666667\n",
              "4                O'Hare    2546.900000"
            ],
            "text/html": [
              "\n",
              "  <div id=\"df-324ec274-df86-4c61-b7b4-bb027f173258\">\n",
              "    <div class=\"colab-df-container\">\n",
              "      <div>\n",
              "<style scoped>\n",
              "    .dataframe tbody tr th:only-of-type {\n",
              "        vertical-align: middle;\n",
              "    }\n",
              "\n",
              "    .dataframe tbody tr th {\n",
              "        vertical-align: top;\n",
              "    }\n",
              "\n",
              "    .dataframe thead th {\n",
              "        text-align: right;\n",
              "    }\n",
              "</style>\n",
              "<table border=\"1\" class=\"dataframe\">\n",
              "  <thead>\n",
              "    <tr style=\"text-align: right;\">\n",
              "      <th></th>\n",
              "      <th>dropoff_location_name</th>\n",
              "      <th>average_trips</th>\n",
              "    </tr>\n",
              "  </thead>\n",
              "  <tbody>\n",
              "    <tr>\n",
              "      <th>0</th>\n",
              "      <td>Loop</td>\n",
              "      <td>10727.466667</td>\n",
              "    </tr>\n",
              "    <tr>\n",
              "      <th>1</th>\n",
              "      <td>River North</td>\n",
              "      <td>9523.666667</td>\n",
              "    </tr>\n",
              "    <tr>\n",
              "      <th>2</th>\n",
              "      <td>Streeterville</td>\n",
              "      <td>6664.666667</td>\n",
              "    </tr>\n",
              "    <tr>\n",
              "      <th>3</th>\n",
              "      <td>West Loop</td>\n",
              "      <td>5163.666667</td>\n",
              "    </tr>\n",
              "    <tr>\n",
              "      <th>4</th>\n",
              "      <td>O'Hare</td>\n",
              "      <td>2546.900000</td>\n",
              "    </tr>\n",
              "  </tbody>\n",
              "</table>\n",
              "</div>\n",
              "      <button class=\"colab-df-convert\" onclick=\"convertToInteractive('df-324ec274-df86-4c61-b7b4-bb027f173258')\"\n",
              "              title=\"Convert this dataframe to an interactive table.\"\n",
              "              style=\"display:none;\">\n",
              "        \n",
              "  <svg xmlns=\"http://www.w3.org/2000/svg\" height=\"24px\"viewBox=\"0 0 24 24\"\n",
              "       width=\"24px\">\n",
              "    <path d=\"M0 0h24v24H0V0z\" fill=\"none\"/>\n",
              "    <path d=\"M18.56 5.44l.94 2.06.94-2.06 2.06-.94-2.06-.94-.94-2.06-.94 2.06-2.06.94zm-11 1L8.5 8.5l.94-2.06 2.06-.94-2.06-.94L8.5 2.5l-.94 2.06-2.06.94zm10 10l.94 2.06.94-2.06 2.06-.94-2.06-.94-.94-2.06-.94 2.06-2.06.94z\"/><path d=\"M17.41 7.96l-1.37-1.37c-.4-.4-.92-.59-1.43-.59-.52 0-1.04.2-1.43.59L10.3 9.45l-7.72 7.72c-.78.78-.78 2.05 0 2.83L4 21.41c.39.39.9.59 1.41.59.51 0 1.02-.2 1.41-.59l7.78-7.78 2.81-2.81c.8-.78.8-2.07 0-2.86zM5.41 20L4 18.59l7.72-7.72 1.47 1.35L5.41 20z\"/>\n",
              "  </svg>\n",
              "      </button>\n",
              "      \n",
              "  <style>\n",
              "    .colab-df-container {\n",
              "      display:flex;\n",
              "      flex-wrap:wrap;\n",
              "      gap: 12px;\n",
              "    }\n",
              "\n",
              "    .colab-df-convert {\n",
              "      background-color: #E8F0FE;\n",
              "      border: none;\n",
              "      border-radius: 50%;\n",
              "      cursor: pointer;\n",
              "      display: none;\n",
              "      fill: #1967D2;\n",
              "      height: 32px;\n",
              "      padding: 0 0 0 0;\n",
              "      width: 32px;\n",
              "    }\n",
              "\n",
              "    .colab-df-convert:hover {\n",
              "      background-color: #E2EBFA;\n",
              "      box-shadow: 0px 1px 2px rgba(60, 64, 67, 0.3), 0px 1px 3px 1px rgba(60, 64, 67, 0.15);\n",
              "      fill: #174EA6;\n",
              "    }\n",
              "\n",
              "    [theme=dark] .colab-df-convert {\n",
              "      background-color: #3B4455;\n",
              "      fill: #D2E3FC;\n",
              "    }\n",
              "\n",
              "    [theme=dark] .colab-df-convert:hover {\n",
              "      background-color: #434B5C;\n",
              "      box-shadow: 0px 1px 3px 1px rgba(0, 0, 0, 0.15);\n",
              "      filter: drop-shadow(0px 1px 2px rgba(0, 0, 0, 0.3));\n",
              "      fill: #FFFFFF;\n",
              "    }\n",
              "  </style>\n",
              "\n",
              "      <script>\n",
              "        const buttonEl =\n",
              "          document.querySelector('#df-324ec274-df86-4c61-b7b4-bb027f173258 button.colab-df-convert');\n",
              "        buttonEl.style.display =\n",
              "          google.colab.kernel.accessAllowed ? 'block' : 'none';\n",
              "\n",
              "        async function convertToInteractive(key) {\n",
              "          const element = document.querySelector('#df-324ec274-df86-4c61-b7b4-bb027f173258');\n",
              "          const dataTable =\n",
              "            await google.colab.kernel.invokeFunction('convertToInteractive',\n",
              "                                                     [key], {});\n",
              "          if (!dataTable) return;\n",
              "\n",
              "          const docLinkHtml = 'Like what you see? Visit the ' +\n",
              "            '<a target=\"_blank\" href=https://colab.research.google.com/notebooks/data_table.ipynb>data table notebook</a>'\n",
              "            + ' to learn more about interactive tables.';\n",
              "          element.innerHTML = '';\n",
              "          dataTable['output_type'] = 'display_data';\n",
              "          await google.colab.output.renderOutput(dataTable, element);\n",
              "          const docLink = document.createElement('div');\n",
              "          docLink.innerHTML = docLinkHtml;\n",
              "          element.appendChild(docLink);\n",
              "        }\n",
              "      </script>\n",
              "    </div>\n",
              "  </div>\n",
              "  "
            ]
          },
          "metadata": {},
          "execution_count": 6
        }
      ],
      "source": [
        "avg_trip_by_do_loc.head()   "
      ]
    },
    {
      "cell_type": "code",
      "execution_count": null,
      "metadata": {
        "colab": {
          "base_uri": "https://localhost:8080/"
        },
        "id": "7tFAP9J7GeB3",
        "outputId": "a6b75178-f7d5-4135-b5e6-0b3c5c95cd9d"
      },
      "outputs": [
        {
          "output_type": "stream",
          "name": "stdout",
          "text": [
            "<class 'pandas.core.frame.DataFrame'>\n",
            "RangeIndex: 94 entries, 0 to 93\n",
            "Data columns (total 2 columns):\n",
            " #   Column                 Non-Null Count  Dtype  \n",
            "---  ------                 --------------  -----  \n",
            " 0   dropoff_location_name  94 non-null     object \n",
            " 1   average_trips          94 non-null     float64\n",
            "dtypes: float64(1), object(1)\n",
            "memory usage: 1.6+ KB\n"
          ]
        }
      ],
      "source": [
        "avg_trip_by_do_loc.info()"
      ]
    },
    {
      "cell_type": "markdown",
      "metadata": {
        "id": "56JNVnu3GeB4"
      },
      "source": [
        "Ada 94 data lokasi pengantaran beserta rata-rata perjalanan pada masing-masing lokasi. Tida ada data yang hilang dan tipe data dari masing-masing kolomg telah sesuai. "
      ]
    },
    {
      "cell_type": "code",
      "execution_count": null,
      "metadata": {
        "colab": {
          "base_uri": "https://localhost:8080/"
        },
        "id": "OYwspsnNGeB4",
        "outputId": "513be8ec-f953-46a3-d40c-a0c21bf094c3"
      },
      "outputs": [
        {
          "output_type": "execute_result",
          "data": {
            "text/plain": [
              "0"
            ]
          },
          "metadata": {},
          "execution_count": 8
        }
      ],
      "source": [
        "avg_trip_by_do_loc.duplicated().sum()"
      ]
    },
    {
      "cell_type": "markdown",
      "metadata": {
        "id": "62qbSnTZGeB5"
      },
      "source": [
        "Tidak ada data duplikat pada tabel rata-rata jumlah perjalanan per lokasi pengantaran. Selanjutnya saya akan memeriksa data yang akan digunakan untuk menguji hipotesis."
      ]
    },
    {
      "cell_type": "code",
      "execution_count": null,
      "metadata": {
        "colab": {
          "base_uri": "https://localhost:8080/",
          "height": 206
        },
        "id": "eWkRUenwGeB6",
        "outputId": "1a03e839-61d1-4e04-ce39-71c558f6c14a"
      },
      "outputs": [
        {
          "output_type": "execute_result",
          "data": {
            "text/plain": [
              "              start_ts weather_conditions  duration_seconds\n",
              "0  2017-11-25 16:00:00               Good            2410.0\n",
              "1  2017-11-25 14:00:00               Good            1920.0\n",
              "2  2017-11-25 12:00:00               Good            1543.0\n",
              "3  2017-11-04 10:00:00               Good            2512.0\n",
              "4  2017-11-11 07:00:00               Good            1440.0"
            ],
            "text/html": [
              "\n",
              "  <div id=\"df-a8785686-f1ed-4f89-830c-52a0e5113729\">\n",
              "    <div class=\"colab-df-container\">\n",
              "      <div>\n",
              "<style scoped>\n",
              "    .dataframe tbody tr th:only-of-type {\n",
              "        vertical-align: middle;\n",
              "    }\n",
              "\n",
              "    .dataframe tbody tr th {\n",
              "        vertical-align: top;\n",
              "    }\n",
              "\n",
              "    .dataframe thead th {\n",
              "        text-align: right;\n",
              "    }\n",
              "</style>\n",
              "<table border=\"1\" class=\"dataframe\">\n",
              "  <thead>\n",
              "    <tr style=\"text-align: right;\">\n",
              "      <th></th>\n",
              "      <th>start_ts</th>\n",
              "      <th>weather_conditions</th>\n",
              "      <th>duration_seconds</th>\n",
              "    </tr>\n",
              "  </thead>\n",
              "  <tbody>\n",
              "    <tr>\n",
              "      <th>0</th>\n",
              "      <td>2017-11-25 16:00:00</td>\n",
              "      <td>Good</td>\n",
              "      <td>2410.0</td>\n",
              "    </tr>\n",
              "    <tr>\n",
              "      <th>1</th>\n",
              "      <td>2017-11-25 14:00:00</td>\n",
              "      <td>Good</td>\n",
              "      <td>1920.0</td>\n",
              "    </tr>\n",
              "    <tr>\n",
              "      <th>2</th>\n",
              "      <td>2017-11-25 12:00:00</td>\n",
              "      <td>Good</td>\n",
              "      <td>1543.0</td>\n",
              "    </tr>\n",
              "    <tr>\n",
              "      <th>3</th>\n",
              "      <td>2017-11-04 10:00:00</td>\n",
              "      <td>Good</td>\n",
              "      <td>2512.0</td>\n",
              "    </tr>\n",
              "    <tr>\n",
              "      <th>4</th>\n",
              "      <td>2017-11-11 07:00:00</td>\n",
              "      <td>Good</td>\n",
              "      <td>1440.0</td>\n",
              "    </tr>\n",
              "  </tbody>\n",
              "</table>\n",
              "</div>\n",
              "      <button class=\"colab-df-convert\" onclick=\"convertToInteractive('df-a8785686-f1ed-4f89-830c-52a0e5113729')\"\n",
              "              title=\"Convert this dataframe to an interactive table.\"\n",
              "              style=\"display:none;\">\n",
              "        \n",
              "  <svg xmlns=\"http://www.w3.org/2000/svg\" height=\"24px\"viewBox=\"0 0 24 24\"\n",
              "       width=\"24px\">\n",
              "    <path d=\"M0 0h24v24H0V0z\" fill=\"none\"/>\n",
              "    <path d=\"M18.56 5.44l.94 2.06.94-2.06 2.06-.94-2.06-.94-.94-2.06-.94 2.06-2.06.94zm-11 1L8.5 8.5l.94-2.06 2.06-.94-2.06-.94L8.5 2.5l-.94 2.06-2.06.94zm10 10l.94 2.06.94-2.06 2.06-.94-2.06-.94-.94-2.06-.94 2.06-2.06.94z\"/><path d=\"M17.41 7.96l-1.37-1.37c-.4-.4-.92-.59-1.43-.59-.52 0-1.04.2-1.43.59L10.3 9.45l-7.72 7.72c-.78.78-.78 2.05 0 2.83L4 21.41c.39.39.9.59 1.41.59.51 0 1.02-.2 1.41-.59l7.78-7.78 2.81-2.81c.8-.78.8-2.07 0-2.86zM5.41 20L4 18.59l7.72-7.72 1.47 1.35L5.41 20z\"/>\n",
              "  </svg>\n",
              "      </button>\n",
              "      \n",
              "  <style>\n",
              "    .colab-df-container {\n",
              "      display:flex;\n",
              "      flex-wrap:wrap;\n",
              "      gap: 12px;\n",
              "    }\n",
              "\n",
              "    .colab-df-convert {\n",
              "      background-color: #E8F0FE;\n",
              "      border: none;\n",
              "      border-radius: 50%;\n",
              "      cursor: pointer;\n",
              "      display: none;\n",
              "      fill: #1967D2;\n",
              "      height: 32px;\n",
              "      padding: 0 0 0 0;\n",
              "      width: 32px;\n",
              "    }\n",
              "\n",
              "    .colab-df-convert:hover {\n",
              "      background-color: #E2EBFA;\n",
              "      box-shadow: 0px 1px 2px rgba(60, 64, 67, 0.3), 0px 1px 3px 1px rgba(60, 64, 67, 0.15);\n",
              "      fill: #174EA6;\n",
              "    }\n",
              "\n",
              "    [theme=dark] .colab-df-convert {\n",
              "      background-color: #3B4455;\n",
              "      fill: #D2E3FC;\n",
              "    }\n",
              "\n",
              "    [theme=dark] .colab-df-convert:hover {\n",
              "      background-color: #434B5C;\n",
              "      box-shadow: 0px 1px 3px 1px rgba(0, 0, 0, 0.15);\n",
              "      filter: drop-shadow(0px 1px 2px rgba(0, 0, 0, 0.3));\n",
              "      fill: #FFFFFF;\n",
              "    }\n",
              "  </style>\n",
              "\n",
              "      <script>\n",
              "        const buttonEl =\n",
              "          document.querySelector('#df-a8785686-f1ed-4f89-830c-52a0e5113729 button.colab-df-convert');\n",
              "        buttonEl.style.display =\n",
              "          google.colab.kernel.accessAllowed ? 'block' : 'none';\n",
              "\n",
              "        async function convertToInteractive(key) {\n",
              "          const element = document.querySelector('#df-a8785686-f1ed-4f89-830c-52a0e5113729');\n",
              "          const dataTable =\n",
              "            await google.colab.kernel.invokeFunction('convertToInteractive',\n",
              "                                                     [key], {});\n",
              "          if (!dataTable) return;\n",
              "\n",
              "          const docLinkHtml = 'Like what you see? Visit the ' +\n",
              "            '<a target=\"_blank\" href=https://colab.research.google.com/notebooks/data_table.ipynb>data table notebook</a>'\n",
              "            + ' to learn more about interactive tables.';\n",
              "          element.innerHTML = '';\n",
              "          dataTable['output_type'] = 'display_data';\n",
              "          await google.colab.output.renderOutput(dataTable, element);\n",
              "          const docLink = document.createElement('div');\n",
              "          docLink.innerHTML = docLinkHtml;\n",
              "          element.appendChild(docLink);\n",
              "        }\n",
              "      </script>\n",
              "    </div>\n",
              "  </div>\n",
              "  "
            ]
          },
          "metadata": {},
          "execution_count": 9
        }
      ],
      "source": [
        "ohare_loop.head()"
      ]
    },
    {
      "cell_type": "code",
      "execution_count": null,
      "metadata": {
        "colab": {
          "base_uri": "https://localhost:8080/"
        },
        "id": "0H75hAHpGeB7",
        "outputId": "609c618d-1503-4cb8-842d-2a4e9e7b5272"
      },
      "outputs": [
        {
          "output_type": "stream",
          "name": "stdout",
          "text": [
            "<class 'pandas.core.frame.DataFrame'>\n",
            "RangeIndex: 1068 entries, 0 to 1067\n",
            "Data columns (total 3 columns):\n",
            " #   Column              Non-Null Count  Dtype  \n",
            "---  ------              --------------  -----  \n",
            " 0   start_ts            1068 non-null   object \n",
            " 1   weather_conditions  1068 non-null   object \n",
            " 2   duration_seconds    1068 non-null   float64\n",
            "dtypes: float64(1), object(2)\n",
            "memory usage: 25.2+ KB\n"
          ]
        }
      ],
      "source": [
        "ohare_loop.info()"
      ]
    },
    {
      "cell_type": "markdown",
      "metadata": {
        "id": "rYWaoOggGeB7"
      },
      "source": [
        "Ada `1,068` data dan tidak ada data yang hilang. Namun unuk kolom `start_ts` perlu disesuaikan tipe datanya, karena seharusnya tipe datanya `datetime`. "
      ]
    },
    {
      "cell_type": "code",
      "execution_count": null,
      "metadata": {
        "colab": {
          "base_uri": "https://localhost:8080/"
        },
        "id": "VDjtxmh7GeB8",
        "outputId": "8b74d5ed-c05d-4634-d0a7-f5bce200636f"
      },
      "outputs": [
        {
          "output_type": "stream",
          "name": "stdout",
          "text": [
            "<class 'pandas.core.frame.DataFrame'>\n",
            "RangeIndex: 1068 entries, 0 to 1067\n",
            "Data columns (total 3 columns):\n",
            " #   Column              Non-Null Count  Dtype         \n",
            "---  ------              --------------  -----         \n",
            " 0   start_ts            1068 non-null   datetime64[ns]\n",
            " 1   weather_conditions  1068 non-null   object        \n",
            " 2   duration_seconds    1068 non-null   float64       \n",
            "dtypes: datetime64[ns](1), float64(1), object(1)\n",
            "memory usage: 25.2+ KB\n"
          ]
        }
      ],
      "source": [
        "ohare_loop['start_ts'] = pd.to_datetime(ohare_loop['start_ts'])\n",
        "ohare_loop.info()"
      ]
    },
    {
      "cell_type": "markdown",
      "metadata": {
        "id": "UEorfpMrGeB8"
      },
      "source": [
        "Tipe datanya sudah sudah disesuaikan."
      ]
    },
    {
      "cell_type": "markdown",
      "metadata": {
        "id": "U3hWvRq8GeB9"
      },
      "source": [
        "## Analisa Data Eksploratif"
      ]
    },
    {
      "cell_type": "markdown",
      "metadata": {
        "id": "qIX98DVAGeB9"
      },
      "source": [
        "### 10 Wilayah Pengantaran Teratas "
      ]
    },
    {
      "cell_type": "code",
      "execution_count": null,
      "metadata": {
        "scrolled": true,
        "colab": {
          "base_uri": "https://localhost:8080/",
          "height": 363
        },
        "id": "ZMc7hLbzGeB-",
        "outputId": "262655d4-d067-4c66-ba8a-631a71852a7b"
      },
      "outputs": [
        {
          "output_type": "execute_result",
          "data": {
            "text/plain": [
              "  dropoff_location_name  average_trips\n",
              "0                  Loop   10727.466667\n",
              "1           River North    9523.666667\n",
              "2         Streeterville    6664.666667\n",
              "3             West Loop    5163.666667\n",
              "4                O'Hare    2546.900000\n",
              "5             Lake View    2420.966667\n",
              "6            Grant Park    2068.533333\n",
              "7         Museum Campus    1510.000000\n",
              "8            Gold Coast    1364.233333\n",
              "9    Sheffield & DePaul    1259.766667"
            ],
            "text/html": [
              "\n",
              "  <div id=\"df-4da53ce0-7819-4e71-94f3-2860af7c9005\">\n",
              "    <div class=\"colab-df-container\">\n",
              "      <div>\n",
              "<style scoped>\n",
              "    .dataframe tbody tr th:only-of-type {\n",
              "        vertical-align: middle;\n",
              "    }\n",
              "\n",
              "    .dataframe tbody tr th {\n",
              "        vertical-align: top;\n",
              "    }\n",
              "\n",
              "    .dataframe thead th {\n",
              "        text-align: right;\n",
              "    }\n",
              "</style>\n",
              "<table border=\"1\" class=\"dataframe\">\n",
              "  <thead>\n",
              "    <tr style=\"text-align: right;\">\n",
              "      <th></th>\n",
              "      <th>dropoff_location_name</th>\n",
              "      <th>average_trips</th>\n",
              "    </tr>\n",
              "  </thead>\n",
              "  <tbody>\n",
              "    <tr>\n",
              "      <th>0</th>\n",
              "      <td>Loop</td>\n",
              "      <td>10727.466667</td>\n",
              "    </tr>\n",
              "    <tr>\n",
              "      <th>1</th>\n",
              "      <td>River North</td>\n",
              "      <td>9523.666667</td>\n",
              "    </tr>\n",
              "    <tr>\n",
              "      <th>2</th>\n",
              "      <td>Streeterville</td>\n",
              "      <td>6664.666667</td>\n",
              "    </tr>\n",
              "    <tr>\n",
              "      <th>3</th>\n",
              "      <td>West Loop</td>\n",
              "      <td>5163.666667</td>\n",
              "    </tr>\n",
              "    <tr>\n",
              "      <th>4</th>\n",
              "      <td>O'Hare</td>\n",
              "      <td>2546.900000</td>\n",
              "    </tr>\n",
              "    <tr>\n",
              "      <th>5</th>\n",
              "      <td>Lake View</td>\n",
              "      <td>2420.966667</td>\n",
              "    </tr>\n",
              "    <tr>\n",
              "      <th>6</th>\n",
              "      <td>Grant Park</td>\n",
              "      <td>2068.533333</td>\n",
              "    </tr>\n",
              "    <tr>\n",
              "      <th>7</th>\n",
              "      <td>Museum Campus</td>\n",
              "      <td>1510.000000</td>\n",
              "    </tr>\n",
              "    <tr>\n",
              "      <th>8</th>\n",
              "      <td>Gold Coast</td>\n",
              "      <td>1364.233333</td>\n",
              "    </tr>\n",
              "    <tr>\n",
              "      <th>9</th>\n",
              "      <td>Sheffield &amp; DePaul</td>\n",
              "      <td>1259.766667</td>\n",
              "    </tr>\n",
              "  </tbody>\n",
              "</table>\n",
              "</div>\n",
              "      <button class=\"colab-df-convert\" onclick=\"convertToInteractive('df-4da53ce0-7819-4e71-94f3-2860af7c9005')\"\n",
              "              title=\"Convert this dataframe to an interactive table.\"\n",
              "              style=\"display:none;\">\n",
              "        \n",
              "  <svg xmlns=\"http://www.w3.org/2000/svg\" height=\"24px\"viewBox=\"0 0 24 24\"\n",
              "       width=\"24px\">\n",
              "    <path d=\"M0 0h24v24H0V0z\" fill=\"none\"/>\n",
              "    <path d=\"M18.56 5.44l.94 2.06.94-2.06 2.06-.94-2.06-.94-.94-2.06-.94 2.06-2.06.94zm-11 1L8.5 8.5l.94-2.06 2.06-.94-2.06-.94L8.5 2.5l-.94 2.06-2.06.94zm10 10l.94 2.06.94-2.06 2.06-.94-2.06-.94-.94-2.06-.94 2.06-2.06.94z\"/><path d=\"M17.41 7.96l-1.37-1.37c-.4-.4-.92-.59-1.43-.59-.52 0-1.04.2-1.43.59L10.3 9.45l-7.72 7.72c-.78.78-.78 2.05 0 2.83L4 21.41c.39.39.9.59 1.41.59.51 0 1.02-.2 1.41-.59l7.78-7.78 2.81-2.81c.8-.78.8-2.07 0-2.86zM5.41 20L4 18.59l7.72-7.72 1.47 1.35L5.41 20z\"/>\n",
              "  </svg>\n",
              "      </button>\n",
              "      \n",
              "  <style>\n",
              "    .colab-df-container {\n",
              "      display:flex;\n",
              "      flex-wrap:wrap;\n",
              "      gap: 12px;\n",
              "    }\n",
              "\n",
              "    .colab-df-convert {\n",
              "      background-color: #E8F0FE;\n",
              "      border: none;\n",
              "      border-radius: 50%;\n",
              "      cursor: pointer;\n",
              "      display: none;\n",
              "      fill: #1967D2;\n",
              "      height: 32px;\n",
              "      padding: 0 0 0 0;\n",
              "      width: 32px;\n",
              "    }\n",
              "\n",
              "    .colab-df-convert:hover {\n",
              "      background-color: #E2EBFA;\n",
              "      box-shadow: 0px 1px 2px rgba(60, 64, 67, 0.3), 0px 1px 3px 1px rgba(60, 64, 67, 0.15);\n",
              "      fill: #174EA6;\n",
              "    }\n",
              "\n",
              "    [theme=dark] .colab-df-convert {\n",
              "      background-color: #3B4455;\n",
              "      fill: #D2E3FC;\n",
              "    }\n",
              "\n",
              "    [theme=dark] .colab-df-convert:hover {\n",
              "      background-color: #434B5C;\n",
              "      box-shadow: 0px 1px 3px 1px rgba(0, 0, 0, 0.15);\n",
              "      filter: drop-shadow(0px 1px 2px rgba(0, 0, 0, 0.3));\n",
              "      fill: #FFFFFF;\n",
              "    }\n",
              "  </style>\n",
              "\n",
              "      <script>\n",
              "        const buttonEl =\n",
              "          document.querySelector('#df-4da53ce0-7819-4e71-94f3-2860af7c9005 button.colab-df-convert');\n",
              "        buttonEl.style.display =\n",
              "          google.colab.kernel.accessAllowed ? 'block' : 'none';\n",
              "\n",
              "        async function convertToInteractive(key) {\n",
              "          const element = document.querySelector('#df-4da53ce0-7819-4e71-94f3-2860af7c9005');\n",
              "          const dataTable =\n",
              "            await google.colab.kernel.invokeFunction('convertToInteractive',\n",
              "                                                     [key], {});\n",
              "          if (!dataTable) return;\n",
              "\n",
              "          const docLinkHtml = 'Like what you see? Visit the ' +\n",
              "            '<a target=\"_blank\" href=https://colab.research.google.com/notebooks/data_table.ipynb>data table notebook</a>'\n",
              "            + ' to learn more about interactive tables.';\n",
              "          element.innerHTML = '';\n",
              "          dataTable['output_type'] = 'display_data';\n",
              "          await google.colab.output.renderOutput(dataTable, element);\n",
              "          const docLink = document.createElement('div');\n",
              "          docLink.innerHTML = docLinkHtml;\n",
              "          element.appendChild(docLink);\n",
              "        }\n",
              "      </script>\n",
              "    </div>\n",
              "  </div>\n",
              "  "
            ]
          },
          "metadata": {},
          "execution_count": 12
        }
      ],
      "source": [
        "top_10_loc = avg_trip_by_do_loc.sort_values(by=['average_trips'], ascending=False).head(10)\n",
        "top_10_loc"
      ]
    },
    {
      "cell_type": "code",
      "execution_count": null,
      "metadata": {
        "colab": {
          "base_uri": "https://localhost:8080/",
          "height": 473
        },
        "id": "rFrliwtnGeB-",
        "outputId": "65fc043e-42e4-4714-8e7d-8b1d4c79dd35"
      },
      "outputs": [
        {
          "output_type": "display_data",
          "data": {
            "text/plain": [
              "<Figure size 864x432 with 1 Axes>"
            ],
            "image/png": "[encoded data removed]"
          },
          "metadata": {
            "needs_background": "light"
          }
        }
      ],
      "source": [
        "fig, ax = plt.subplots(figsize=(12, 6))\n",
        "plots = sns.barplot(data=top_10_loc, x='dropoff_location_name', y='average_trips', ax=ax)\n",
        "\n",
        "for bar in plots.patches:\n",
        "   \n",
        "    plots.annotate(format(bar.get_height(), '.2f'),\n",
        "                   (bar.get_x() + bar.get_width() / 2,\n",
        "                    bar.get_height()), ha='center', va='center',\n",
        "                   size=8, xytext=(0, 8),\n",
        "                   textcoords='offset points')\n",
        "\n",
        "plt.xticks(rotation=45)\n",
        "plt.title('Average Trips by Dropoff Location', size=16)\n",
        "plt.xlabel('Dropoff Location', size=14)\n",
        "plt.ylabel('Average Trips', size=14)\n",
        "plt.show()"
      ]
    },
    {
      "cell_type": "markdown",
      "metadata": {
        "id": "6-ZDk7r8GeB_"
      },
      "source": [
        "Dari data diatas, menunjukan 10 wilayah pengantaran teratas. Tiga wilayah teratas dipimpin oleh wilayah `loop`, lalu disusul oleh `river north` dan `streeterville`."
      ]
    },
    {
      "cell_type": "markdown",
      "metadata": {
        "id": "zzWX3Tk9GeB_"
      },
      "source": [
        "### 10 Perusahaan Taksi dengan Perjalanan Terbanyak"
      ]
    },
    {
      "cell_type": "code",
      "execution_count": null,
      "metadata": {
        "colab": {
          "base_uri": "https://localhost:8080/",
          "height": 522
        },
        "id": "SyzKI6AZGeB_",
        "outputId": "edcd4dc9-5d17-4a28-e1e1-e702ef0a7e7d"
      },
      "outputs": [
        {
          "output_type": "display_data",
          "data": {
            "text/plain": [
              "<Figure size 864x432 with 1 Axes>"
            ],
            "image/png": "[encoded data removed]"
          },
          "metadata": {
            "needs_background": "light"
          }
        }
      ],
      "source": [
        "top_10_tc_by_trip = trips_by_company.sort_values(by=['trips_amount'], ascending=False).head(10)\n",
        "\n",
        "fig, ax = plt.subplots(figsize=(12, 6))\n",
        "plots = sns.barplot(data = top_10_tc_by_trip, x='company_name', y='trips_amount', ax=ax)\n",
        "\n",
        "for bar in plots.patches:\n",
        "   \n",
        "    plots.annotate(format(bar.get_height(), '.2f'),\n",
        "                   (bar.get_x() + bar.get_width() / 2,\n",
        "                    bar.get_height()), ha='center', va='center',\n",
        "                   size=8, xytext=(0, 8),\n",
        "                   textcoords='offset points')\n",
        "\n",
        "plt.xticks(rotation=45)\n",
        "plt.title('Trips Amount by Taxi Company', size=16)\n",
        "plt.ylabel('Trips Amount', size=12)\n",
        "plt.xlabel('Company Name', size=12)\n",
        "plt.show()"
      ]
    },
    {
      "cell_type": "markdown",
      "metadata": {
        "id": "_3kZK37TGeCA"
      },
      "source": [
        "Dari grafik diatas menunjukan 10 perusahaan taksi dengan jumlah perjalanan terbanyak. Tiga besar dipimpin oleh `Flash Cab`, disusul oleh `Taxi Affiliation Services`, dan `Medallion Leasing`. Namun dari ketiga perusahaan tersebut, `Flash Cab` jumlahnya jauh lebih besar dari 2 lainnya. Jumlah perjalanan `Flash Cab` hampir dua kali perjalanan `Taxi Affiliation Services` dan `Medallion Leasing`."
      ]
    },
    {
      "cell_type": "markdown",
      "metadata": {
        "id": "SSz4qw4kGeCB"
      },
      "source": [
        "## Menguji Hipotesis"
      ]
    },
    {
      "cell_type": "markdown",
      "metadata": {
        "id": "76_ps2ovGeCB"
      },
      "source": [
        "Selanjutnya saya akan menguji hipotesis apakah ada perbedaan yang signifikan dari rata-rata durasi perjalanan dengan kondisi hari sabtu dengan cuaca hujan dibandingkan kondisi lainnya. Karena saya memiliki asumsi, hari sabtu dan cuaca hujan merupakan faktor-faktor yang mendorong konsumen menggunakan lebih sering jasa taksi kearah Bandara. Sebelum memulai pengujian, saya akan merumuskan hipotesisnya.\n",
        "- Hipotesis Nol: Rata-Rata Durasi Perjalanan Pada Hari Sabtu dengan Cuaca Hujan Sama dengan Rata-Rata Durasi Perjalanan Pada Hari Sabtu dengan Cuaca Tidak Hujan.\n",
        "- Hipotesis Alternatif: Rata-Rata Durasi Perjalanan Pada Hari Sabtu dengan Cuaca Hujan Tidak Sama dengan Rata-Rata Durasi Perjalanan Pada Hari Sabtu dengan Cuaca Tidak Hujan.\n",
        "\n",
        "Nilai `alpha` yang digunakan adalah `5%`. Nilai tersebut yang ditentukan karena batas signifikansi `5%` umum digunakan dalam penelitian ilmu sosial, sehingga batas nilai tersebut menurut saya cukup.  \n",
        "\n",
        "Selain itu, saya akan menambahkan kolom `dow` (day of week), agar dapat memisahkan data dengan kondisi hari `sabtu`."
      ]
    },
    {
      "cell_type": "code",
      "execution_count": null,
      "metadata": {
        "colab": {
          "base_uri": "https://localhost:8080/"
        },
        "id": "tKiQ4qeBGeCC",
        "outputId": "9d5520d9-7bed-4ee4-b398-2afd6fe40e3f"
      },
      "outputs": [
        {
          "output_type": "stream",
          "name": "stdout",
          "text": [
            "<class 'pandas.core.frame.DataFrame'>\n",
            "RangeIndex: 1068 entries, 0 to 1067\n",
            "Data columns (total 4 columns):\n",
            " #   Column              Non-Null Count  Dtype         \n",
            "---  ------              --------------  -----         \n",
            " 0   start_ts            1068 non-null   datetime64[ns]\n",
            " 1   weather_conditions  1068 non-null   object        \n",
            " 2   duration_seconds    1068 non-null   float64       \n",
            " 3   dow                 1068 non-null   int64         \n",
            "dtypes: datetime64[ns](1), float64(1), int64(1), object(1)\n",
            "memory usage: 33.5+ KB\n"
          ]
        }
      ],
      "source": [
        "ohare_loop['dow'] = pd.DatetimeIndex(ohare_loop['start_ts']).dayofweek\n",
        "ohare_loop.info()"
      ]
    },
    {
      "cell_type": "markdown",
      "metadata": {
        "id": "Ug_Yy6k0GeCD"
      },
      "source": [
        "Kolom `dow` telah ditambahhkan."
      ]
    },
    {
      "cell_type": "code",
      "execution_count": null,
      "metadata": {
        "colab": {
          "base_uri": "https://localhost:8080/"
        },
        "id": "N08k6xuLGeCD",
        "outputId": "7d98fe3b-ffee-4302-bf69-55fcab0f039f"
      },
      "outputs": [
        {
          "output_type": "execute_result",
          "data": {
            "text/plain": [
              "array([5])"
            ]
          },
          "metadata": {},
          "execution_count": 16
        }
      ],
      "source": [
        "ohare_loop['dow'].unique()"
      ]
    },
    {
      "cell_type": "markdown",
      "metadata": {
        "id": "kSpVHMRzGeCD"
      },
      "source": [
        "Ternyata data yang ada didalam dataset merupakan pejalanan pada hari sabtu."
      ]
    },
    {
      "cell_type": "code",
      "execution_count": null,
      "metadata": {
        "id": "xd6tLJIUGeCD"
      },
      "outputs": [],
      "source": [
        "ohare_loop_sat_rain = ohare_loop.loc[ohare_loop['weather_conditions'] == 'Bad', 'duration_seconds'].copy()\n",
        "ohare_loop_other = ohare_loop.loc[ohare_loop['weather_conditions'] != 'Bad', 'duration_seconds'].copy()\n",
        "\n",
        "def h_testing_ind(samp1, samp2, alpha, tail) :\n",
        "    result = ttest_ind(samp1, samp2)\n",
        "    pval = result.pvalue\n",
        "    \n",
        "    if tail == 1 :\n",
        "        if (samp1.mean() > samp2.mean()) and (alpha > pval):\n",
        "            print('P-Value adalah: '+ str(pval/2))\n",
        "            print ('Kita menolak hipotesis nol')\n",
        "            return\n",
        "        else :\n",
        "            print('P-Value adalah: '+ str(pval/2))\n",
        "            print ('Kita tidak dapat menolak hipotesis nol')\n",
        "            return\n",
        "    elif tail == 2:\n",
        "        if alpha > pval :\n",
        "            print('P-Value adalah: '+ str(pval))\n",
        "            print ('Kita menolak hipotesis nol')\n",
        "            return\n",
        "        else :\n",
        "            print('P-Value adalah: '+ str(pval))\n",
        "            print ('Kita tidak dapat menolak hipotesis nol')\n",
        "            return\n",
        "    else :\n",
        "        print('Error, parameter tail hanya antara 1 atau 2')\n",
        "        return"
      ]
    },
    {
      "cell_type": "code",
      "execution_count": null,
      "metadata": {
        "colab": {
          "base_uri": "https://localhost:8080/"
        },
        "id": "bpP-K9cGGeCE",
        "outputId": "5efd2440-a8ea-4027-aa11-8d8e68582bfc"
      },
      "outputs": [
        {
          "output_type": "stream",
          "name": "stdout",
          "text": [
            "P-Value adalah: 6.517970327099473e-12\n",
            "Kita menolak hipotesis nol\n"
          ]
        }
      ],
      "source": [
        "h_testing_ind(ohare_loop_sat_rain, ohare_loop_other, 0.05, 2)"
      ]
    },
    {
      "cell_type": "markdown",
      "metadata": {
        "id": "BSTLDmxIGeCG"
      },
      "source": [
        "`P-Value`nya jauh lebih kecil dari nilai `alpha`. Artinya rata-rata durasi perjalanan pada hari sabtu dengan cuaca hujan tidak sama dengan rata-rata durasi perjalanan pada hari sabtu dengan cuaca tidak hujan. Selanjutnya saya akan melihat rata-rata durasi perjalanan ketika hujan dan tidak hujan."
      ]
    },
    {
      "cell_type": "code",
      "execution_count": null,
      "metadata": {
        "colab": {
          "base_uri": "https://localhost:8080/"
        },
        "id": "qxzHR5IFGeCG",
        "outputId": "e8432df5-fee3-416c-b767-0f0b22709e76"
      },
      "outputs": [
        {
          "output_type": "stream",
          "name": "stdout",
          "text": [
            "Rata-rata durasi perjalanan ketika hujan: 2427.2055555555557\n",
            "Rata-rata durasi perjalanan ketika tidak hujan: 1999.6756756756756\n"
          ]
        }
      ],
      "source": [
        "ohare_loop_sat_rain_mean = ohare_loop_sat_rain.mean()\n",
        "ohare_loop_other_mean = ohare_loop_other.mean()\n",
        "\n",
        "print('Rata-rata durasi perjalanan ketika hujan: '+ str(ohare_loop_sat_rain_mean))\n",
        "print('Rata-rata durasi perjalanan ketika tidak hujan: '+ str(ohare_loop_other_mean))"
      ]
    },
    {
      "cell_type": "markdown",
      "metadata": {
        "id": "Ho4r51uuGeCH"
      },
      "source": [
        "Hasilnya menunjukan perjalanan di hari sabtu ketika hujan rata-rata durasinya lebih lama dengan perjalanan ketika tidak hujan. Perbedaaanya sekitar `427` detik, atau sekitar 7 menit. "
      ]
    },
    {
      "cell_type": "markdown",
      "metadata": {
        "id": "XaoTPzMmGeCI"
      },
      "source": [
        "## Kesimpulan"
      ]
    },
    {
      "cell_type": "markdown",
      "metadata": {
        "id": "ZiN60PwrGeCI"
      },
      "source": [
        "Dari Analisa data eksploratif yang telah dilakukan menunjukan `Flash Cab` merupakan perusahaan taksi yang memiliki perjalanan terbanyak dan jaraknya jauh diatas perusahaan taksi lainnya. Poin kedua adalah lokasi dropoff terbanyak adalah `Loop` dan poin ketiga adalah cuaca hujan ternyata meningkatkan durasi perjalanan. \n",
        "\n",
        "Peningkatan durasi perjalanan belum tentu menguntungkan. Tergantung sistem menentukan harga suatu perjalanan. Jika menggunakan mesin argo maka dengan meningkatnya durasi perjalanan otomatis akan meningkatkan harga suatu perjalanan. Namun jika menggunakan harga penentuan harga diawal, maka perusahaan perlu menentukan harga lebih tinggi ketika kondisi hujan.  "
      ]
    }
  ],
  "metadata": {
    "kernelspec": {
      "display_name": "Python 3 (ipykernel)",
      "language": "python",
      "name": "python3"
    },
    "language_info": {
      "codemirror_mode": {
        "name": "ipython",
        "version": 3
      },
      "file_extension": ".py",
      "mimetype": "text/x-python",
      "name": "python",
      "nbconvert_exporter": "python",
      "pygments_lexer": "ipython3",
      "version": "3.9.5"
    },
    "toc": {
      "base_numbering": 1,
      "nav_menu": {
        "height": "319px",
        "width": "384px"
      },
      "number_sections": true,
      "sideBar": true,
      "skip_h1_title": true,
      "title_cell": "Table of Contents",
      "title_sidebar": "Contents",
      "toc_cell": false,
      "toc_position": {},
      "toc_section_display": true,
      "toc_window_display": false
    },
    "colab": {
      "provenance": [],
      "include_colab_link": true
    }
  },
  "nbformat": 4,
  "nbformat_minor": 0
}